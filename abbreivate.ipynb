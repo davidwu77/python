{
 "cells": [
  {
   "cell_type": "code",
   "execution_count": 1,
   "id": "5ecc830a-060a-4b09-a345-e15640afd10c",
   "metadata": {},
   "outputs": [],
   "source": [
    "import pandas as pd\n",
    "from itertools import combinations\n",
    "import difflib"
   ]
  },
  {
   "cell_type": "code",
   "execution_count": null,
   "id": "69244d56-f8df-4096-b67e-8ba6fdf58be4",
   "metadata": {},
   "outputs": [],
   "source": [
    "import pandas as pd\n",
    "from itertools import combinations\n",
    "import difflib\n",
    "df=pd.read_csv('sample_project.csv')\n",
    "df"
   ]
  },
  {
   "cell_type": "code",
   "execution_count": null,
   "id": "2c3eb00b-4fdd-4974-ba59-4946c8e62d91",
   "metadata": {},
   "outputs": [],
   "source": [
    "label_choice=[]\n",
    "target_label_choice=[]\n",
    "name_set=[]\n",
    "original_index=[]\n",
    "original_label=[]\n",
    "\n",
    "k=0"
   ]
  }
 ],
 "metadata": {
  "kernelspec": {
   "display_name": "Python 3 (ipykernel)",
   "language": "python",
   "name": "python3"
  },
  "language_info": {
   "codemirror_mode": {
    "name": "ipython",
    "version": 3
   },
   "file_extension": ".py",
   "mimetype": "text/x-python",
   "name": "python",
   "nbconvert_exporter": "python",
   "pygments_lexer": "ipython3",
   "version": "3.11.4"
  }
 },
 "nbformat": 4,
 "nbformat_minor": 5
}
